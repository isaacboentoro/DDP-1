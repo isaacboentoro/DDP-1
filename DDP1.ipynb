{
 "cells": [
  {
   "cell_type": "code",
   "execution_count": null,
   "id": "adb6fb43",
   "metadata": {},
   "outputs": [],
   "source": [
    "def cetak(n):\n",
    "    if n < 10:\n",
    "        print(n)\n",
    "    else:\n",
    "        cetak(n // 10)\n",
    "        print(n % 10)\n",
    "cetak(123)"
   ]
  },
  {
   "cell_type": "code",
   "execution_count": 61,
   "metadata": {},
   "outputs": [
    {
     "name": "stdout",
     "output_type": "stream",
     "text": [
      "[2, 3, 4, 5, 6]\n"
     ]
    }
   ],
   "source": [
    "def flatten(L):\n",
    "    if not L:\n",
    "        return []\n",
    "    elif isinstance(L[0], list):\n",
    "        return flatten(L[0]) + flatten(L[1:])\n",
    "    elif isinstance(L[0], int):\n",
    "        return [L[0]] + flatten(L[1:])\n",
    "    else:\n",
    "        return flatten(L[1:])\n",
    "\n",
    "print(flatten([[],'a',2,[3],[4,5,6]])) "
   ]
  },
  {
   "cell_type": "code",
   "execution_count": 62,
   "id": "2dea67e5a9db772c",
   "metadata": {
    "collapsed": false
   },
   "outputs": [
    {
     "name": "stdout",
     "output_type": "stream",
     "text": [
      "-5\n"
     ]
    }
   ],
   "source": [
    "def mini(sortlist):\n",
    "    if len(sortlist) == 1:\n",
    "        return sortlist[0]\n",
    "    if sortlist [0] < sortlist[1]:\n",
    "        sortlist[1] = sortlist[0]\n",
    "    return mini(sortlist[1:])\n",
    "print(mini([3,0,-5]))"
   ]
  },
  {
   "cell_type": "code",
   "execution_count": 63,
   "id": "dc61718b",
   "metadata": {},
   "outputs": [
    {
     "name": "stdout",
     "output_type": "stream",
     "text": [
      "dict_keys(['a', 'c', 'b'])\n",
      "dict_values([36, 25, 40])\n",
      "dict_items([('a', 36), ('c', 25), ('b', 40)])\n",
      "36 40 25\n",
      "25 36 25\n"
     ]
    }
   ],
   "source": [
    "dictio = {'a':36, 'c':25, 'b':40}\n",
    "print(dictio.keys())\n",
    "print(dictio.values())\n",
    "print(dictio.items())\n",
    "print(dictio.get('a'),dictio.get('b'),dictio.get('c'))\n",
    "print(dictio.get('c'),dictio.get('a'),dictio.get('c'))"
   ]
  },
  {
   "cell_type": "code",
   "execution_count": 64,
   "id": "34dd0593a88b66b9",
   "metadata": {
    "collapsed": false
   },
   "outputs": [
    {
     "data": {
      "text/plain": [
       "120"
      ]
     },
     "execution_count": 64,
     "metadata": {},
     "output_type": "execute_result"
    }
   ],
   "source": [
    "def factorial(n):\n",
    "    if n <= 1:\n",
    "        return 1\n",
    "    else:\n",
    "        return n*factorial(n-1)\n",
    "factorial(5)"
   ]
  },
  {
   "cell_type": "code",
   "execution_count": 65,
   "id": "ab267b6398513f9b",
   "metadata": {
    "collapsed": false
   },
   "outputs": [
    {
     "data": {
      "text/plain": [
       "1"
      ]
     },
     "execution_count": 65,
     "metadata": {},
     "output_type": "execute_result"
    }
   ],
   "source": [
    "def sum_list(lst):\n",
    "    if not lst:\n",
    "        return 0\n",
    "    else:\n",
    "        return lst[0] + sum_list(lst[1:])\n",
    "\n",
    "sum_list([9,-3,2,0,5,-12])"
   ]
  },
  {
   "cell_type": "code",
   "execution_count": 66,
   "id": "f22579cfd10eff39",
   "metadata": {
    "collapsed": false
   },
   "outputs": [
    {
     "name": "stdout",
     "output_type": "stream",
     "text": [
      "4\n"
     ]
    }
   ],
   "source": [
    "def count_digits(st):\n",
    "    if not st:\n",
    "        return 0\n",
    "    # if st[0].isdigit():\n",
    "    #     return 1 + count_digits(st[1:])\n",
    "    # else:\n",
    "    #     return count_digits(st[1:])\n",
    "    return count_digits(st[1:]) + st[0].isdigit()\n",
    "\n",
    "\n",
    "print(count_digits(\"Year 2023\"))"
   ]
  },
  {
   "cell_type": "code",
   "execution_count": 67,
   "id": "7e93d2b26ae720a",
   "metadata": {
    "collapsed": false
   },
   "outputs": [
    {
     "data": {
      "text/plain": [
       "True"
      ]
     },
     "execution_count": 67,
     "metadata": {},
     "output_type": "execute_result"
    }
   ],
   "source": [
    "def palindrome_check(palindrome):\n",
    "    if not palindrome:\n",
    "        return True\n",
    "    if palindrome[0] == palindrome[-1]:\n",
    "        return palindrome_check(palindrome[1:-1])\n",
    "    else:\n",
    "        return False\n",
    "        \n",
    "palindrome_check(\"racecar\")\n"
   ]
  },
  {
   "cell_type": "code",
   "execution_count": 68,
   "id": "afb0e981daf7c927",
   "metadata": {
    "collapsed": false
   },
   "outputs": [
    {
     "name": "stdout",
     "output_type": "stream",
     "text": [
      "['abcd', 'abdc', 'acbd', 'acdb', 'adbc', 'adcb', 'bacd', 'badc', 'bcad', 'bcda', 'bdac', 'bdca', 'cabd', 'cadb', 'cbad', 'cbda', 'cdab', 'cdba', 'dabc', 'dacb', 'dbac', 'dbca', 'dcab', 'dcba']\n",
      "24\n"
     ]
    }
   ],
   "source": [
    "def permutations(permutation):\n",
    "    permutation_list = []\n",
    "    if len(permutation) == 1:\n",
    "        permutation_list.append(permutation)\n",
    "    else:\n",
    "        for i in range(len(permutation)):\n",
    "            for j in permutations(permutation[:i] + permutation[i + 1:]):\n",
    "                permutation_list.append(permutation[i] + j)\n",
    "    return permutation_list\n",
    "print(permutations(\"abcd\"))\n",
    "print(len(permutations(\"abcd\")))\n"
   ]
  },
  {
   "cell_type": "markdown",
   "id": "cbae110346292faa",
   "metadata": {
    "collapsed": false
   },
   "source": [
    "## Dictionaries"
   ]
  },
  {
   "cell_type": "code",
   "execution_count": 69,
   "id": "ed49549bb6475529",
   "metadata": {
    "collapsed": false
   },
   "outputs": [
    {
     "data": {
      "text/plain": [
       "{'abc': 3, 'fasilkom': 1}"
      ]
     },
     "execution_count": 69,
     "metadata": {},
     "output_type": "execute_result"
    }
   ],
   "source": [
    "count_dict = {}\n",
    "word_list = ['abc', 'fasilkom', 'abc', 'abc']\n",
    "for word in word_list:\n",
    "    count_dict[word] = count_dict.get(word,0) +1\n",
    "\n",
    "count_dict"
   ]
  },
  {
   "cell_type": "markdown",
   "id": "9e48403a1fc4b2cd",
   "metadata": {
    "collapsed": false
   },
   "source": [
    "## Classes\n"
   ]
  },
  {
   "cell_type": "code",
   "execution_count": 70,
   "id": "639f5f29d05380ee",
   "metadata": {
    "ExecuteTime": {
     "end_time": "2023-11-02T03:55:41.431390400Z",
     "start_time": "2023-11-02T03:55:41.398522400Z"
    },
    "collapsed": false
   },
   "outputs": [
    {
     "name": "stdout",
     "output_type": "stream",
     "text": [
      "Circle with radius 5\n"
     ]
    }
   ],
   "source": [
    "import math\n",
    "class Circle(object):\n",
    "    def __init__(self, radius=1):\n",
    "        self._radius = radius       \n",
    "    \n",
    "    def __str__(self):\n",
    "        return \"Circle with radius {}\".format(self._radius)\n",
    "    \n",
    "    def perimeter(self):\n",
    "        return 2*self._radius*math.pi\n",
    "    \n",
    "    def area(self):\n",
    "        return math.pi *(self._radius**2)\n",
    "    \n",
    "    def set_radius(self, radius):\n",
    "        self._radius = radius\n",
    "    \n",
    "    def get_radius(self):\n",
    "        return self._radius\n",
    "        \n",
    "    \n",
    "obj = Circle(5)\n",
    "obj.get_radius()\n",
    "print(obj) #Obj has type \"Circle\""
   ]
  },
  {
   "cell_type": "code",
   "execution_count": 71,
   "id": "d6dec7a5178e20e6",
   "metadata": {
    "ExecuteTime": {
     "end_time": "2023-11-14T02:50:37.037442700Z",
     "start_time": "2023-11-14T02:50:36.954901800Z"
    },
    "collapsed": false
   },
   "outputs": [
    {
     "name": "stdout",
     "output_type": "stream",
     "text": [
      "['ua', 'ad', 'ai', 'tpe']\n"
     ]
    },
    {
     "ename": "TypeError",
     "evalue": "list[1] is not a generic class",
     "output_type": "error",
     "traceback": [
      "\u001b[1;31m---------------------------------------------------------------------------\u001b[0m",
      "\u001b[1;31mTypeError\u001b[0m                                 Traceback (most recent call last)",
      "\u001b[1;32mUbuntu\\home\\isaacb\\DDP-1\\DDP1.ipynb Cell 14\u001b[0m line \u001b[0;36m4\n\u001b[0;32m      <a href='vscode-notebook-cell://wsl.localhost/Ubuntu/home/isaacb/DDP-1/DDP1.ipynb#X15sZmlsZQ%3D%3D?line=1'>2</a>\u001b[0m lst2 \u001b[39m=\u001b[39m [ kata[::\u001b[39m-\u001b[39m\u001b[39m2\u001b[39m] \u001b[39mfor\u001b[39;00m kata \u001b[39min\u001b[39;00m list0]\n\u001b[0;32m      <a href='vscode-notebook-cell://wsl.localhost/Ubuntu/home/isaacb/DDP-1/DDP1.ipynb#X15sZmlsZQ%3D%3D?line=2'>3</a>\u001b[0m \u001b[39mprint\u001b[39m( lst2 )\n\u001b[1;32m----> <a href='vscode-notebook-cell://wsl.localhost/Ubuntu/home/isaacb/DDP-1/DDP1.ipynb#X15sZmlsZQ%3D%3D?line=3'>4</a>\u001b[0m \u001b[39mprint\u001b[39m(\u001b[39mlist\u001b[39;49m[\u001b[39m1\u001b[39;49m][:\u001b[39m1\u001b[39;49m])\n\u001b[0;32m      <a href='vscode-notebook-cell://wsl.localhost/Ubuntu/home/isaacb/DDP-1/DDP1.ipynb#X15sZmlsZQ%3D%3D?line=4'>5</a>\u001b[0m list1 \u001b[39m=\u001b[39m [\u001b[39m30\u001b[39m,\u001b[39m20\u001b[39m,\u001b[39m10\u001b[39m,\u001b[39m0\u001b[39m,[\u001b[39m41\u001b[39m,\u001b[39m42\u001b[39m]]\n\u001b[0;32m      <a href='vscode-notebook-cell://wsl.localhost/Ubuntu/home/isaacb/DDP-1/DDP1.ipynb#X15sZmlsZQ%3D%3D?line=5'>6</a>\u001b[0m list2 \u001b[39m=\u001b[39m list1\n",
      "\u001b[1;31mTypeError\u001b[0m: list[1] is not a generic class"
     ]
    }
   ],
   "source": [
    "list0 = ['satu', '\\x64\\x75\\x61', 'tiga', 'empat']\n",
    "lst2 = [ kata[::-2] for kata in list0]\n",
    "print( lst2 )\n",
    "print(list[1][:1])\n",
    "list1 = [30,20,10,0,[41,42]]\n",
    "list2 = list1\n",
    "list3 = list2[:]\n",
    "list1[0] = 1\n",
    "list2[1] = 2\n",
    "list3[2] = 3\n",
    "list3[-1][1] = 5\n",
    "print(\"list2:\", list2)\n",
    "print(\"list3:\", list3)"
   ]
  },
  {
   "cell_type": "code",
   "execution_count": null,
   "id": "57c9a987a77097c5",
   "metadata": {
    "ExecuteTime": {
     "end_time": "2023-11-21T03:44:47.769303900Z",
     "start_time": "2023-11-21T03:44:36.762000600Z"
    },
    "collapsed": false
   },
   "outputs": [
    {
     "data": {
      "text/plain": [
       "<__main__.GridManagerDemo at 0x7fa239a0d890>"
      ]
     },
     "execution_count": 1,
     "metadata": {},
     "output_type": "execute_result"
    }
   ],
   "source": [
    "from tkinter import *\n",
    "class GridManagerDemo:\n",
    "    window = Tk() # Create a window\n",
    "    window.title(\"Grid Manager Demo\") # Set title\n",
    "    message = Message(window, text =\n",
    "        \"This Message widget occupies three rows and two columns\")\n",
    "    message.grid(row = 1, column = 1, rowspan = 3, columnspan = 2)\n",
    "    Label(window, text = \"First Name:\").grid(row = 1, column = 3)\n",
    "    Entry(window).grid(row = 1, column = 4, padx = 5, pady = 5)\n",
    "    Label(window, text = \"Last Name:\").grid(row = 2, column = 3)\n",
    "    Entry(window).grid(row = 2, column = 4)\n",
    "    Button(window, text = \"Get Name\").grid(row = 3,\n",
    "        padx = 5, pady = 5, column = 4, sticky = E)\n",
    "    window.mainloop() # Create an event loop\n",
    "GridManagerDemo() # Create GUI"
   ]
  },
  {
   "cell_type": "code",
   "execution_count": null,
   "id": "977c9acac721e287",
   "metadata": {
    "collapsed": false
   },
   "outputs": [
    {
     "name": "stdout",
     "output_type": "stream",
     "text": [
      "5\n",
      "20\n"
     ]
    }
   ],
   "source": [
    "class A:\n",
    "    def __init__(self, i =0):\n",
    "        self.i = i\n",
    "class B(A):\n",
    "    def __init__(self, j = 0):\n",
    "        super().__init__(5)\n",
    "        self.j = j\n",
    "\n",
    "def main():\n",
    "    b = B(j=20)\n",
    "    print(b.i)\n",
    "    print(b.j)\n",
    "\n",
    "main()"
   ]
  }
 ],
 "metadata": {
  "kernelspec": {
   "display_name": "Python 3",
   "language": "python",
   "name": "python3"
  },
  "language_info": {
   "codemirror_mode": {
    "name": "ipython",
    "version": 3
   },
   "file_extension": ".py",
   "mimetype": "text/x-python",
   "name": "python",
   "nbconvert_exporter": "python",
   "pygments_lexer": "ipython3",
   "version": "3.11.6"
  }
 },
 "nbformat": 4,
 "nbformat_minor": 5
}
