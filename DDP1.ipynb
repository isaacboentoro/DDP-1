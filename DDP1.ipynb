{
 "cells": [
  {
   "cell_type": "code",
   "execution_count": null,
   "id": "adb6fb43",
   "metadata": {},
   "outputs": [],
   "source": [
    "def cetak(n):\n",
    "    if n < 10:\n",
    "        print(n)\n",
    "    else:\n",
    "        cetak(n // 10)\n",
    "        print(n % 10)\n",
    "cetak(123)"
   ]
  },
  {
   "cell_type": "code",
   "execution_count": null,
   "outputs": [],
   "source": [
    "def mini(sortlist):\n",
    "    if len(sortlist) == 1:\n",
    "        return sortlist[0]\n",
    "    if sortlist [0] < sortlist[1]:\n",
    "        sortlist[1] = sortlist[0]\n",
    "    return mini(sortlist[1:])\n",
    "print(mini([3,0,-5]))"
   ],
   "metadata": {
    "collapsed": false
   },
   "id": "2dea67e5a9db772c"
  },
  {
   "cell_type": "code",
   "execution_count": null,
   "id": "dc61718b",
   "metadata": {},
   "outputs": [],
   "source": [
    "dictio = {'a':36, 'c':25, 'b':40}\n",
    "print(dictio.keys())\n",
    "print(dictio.values())\n",
    "print(dictio.items())\n",
    "print(dictio.get('a'),dictio.get('b'),dictio.get('c'))\n",
    "print(dictio.get('c'),dictio.get('a'),dictio.get('c'))"
   ]
  },
  {
   "cell_type": "code",
   "execution_count": null,
   "outputs": [],
   "source": [
    "def factorial(n):\n",
    "    if n <= 1:\n",
    "        return 1\n",
    "    else:\n",
    "        return n*factorial(n-1)\n",
    "factorial(5)"
   ],
   "metadata": {
    "collapsed": false
   },
   "id": "34dd0593a88b66b9"
  },
  {
   "cell_type": "code",
   "execution_count": null,
   "outputs": [],
   "source": [
    "def sum_list(lst):\n",
    "    if not lst:\n",
    "        return 0\n",
    "    else:\n",
    "        return lst[0] + sum_list(lst[1:])\n",
    "\n",
    "sum_list([9,-3,2,0,5,-12])"
   ],
   "metadata": {
    "collapsed": false
   },
   "id": "ab267b6398513f9b"
  },
  {
   "cell_type": "code",
   "execution_count": null,
   "outputs": [],
   "source": [
    "def count_digits(st):\n",
    "    if not st:\n",
    "        return 0\n",
    "    # if st[0].isdigit():\n",
    "    #     return 1 + count_digits(st[1:])\n",
    "    # else:\n",
    "    #     return count_digits(st[1:])\n",
    "    return count_digits(st[1:]) + st[0].isdigit()\n",
    "\n",
    "\n",
    "print(count_digits(\"Year 2023\"))"
   ],
   "metadata": {
    "collapsed": false
   },
   "id": "f22579cfd10eff39"
  },
  {
   "cell_type": "code",
   "execution_count": null,
   "outputs": [],
   "source": [
    "def palindrome_check(palindrome):\n",
    "    if not palindrome:\n",
    "        return True\n",
    "    if palindrome[0] == palindrome[-1]:\n",
    "        return palindrome_check(palindrome[1:-1])\n",
    "    else:\n",
    "        return False\n",
    "        \n",
    "palindrome_check(\"racecar\")\n"
   ],
   "metadata": {
    "collapsed": false
   },
   "id": "7e93d2b26ae720a"
  },
  {
   "cell_type": "code",
   "execution_count": null,
   "outputs": [],
   "source": [
    "def permutations(permutation):\n",
    "    permutation_list = []\n",
    "    if len(permutation) == 1:\n",
    "        permutation_list.append(permutation)\n",
    "    else:\n",
    "        for i in range(len(permutation)):\n",
    "            for j in permutations(permutation[:i] + permutation[i + 1:]):\n",
    "                permutation_list.append(permutation[i] + j)\n",
    "    return permutation_list\n",
    "print(permutations(\"abcd\"))\n",
    "print(len(permutations(\"abcd\")))\n"
   ],
   "metadata": {
    "collapsed": false
   },
   "id": "afb0e981daf7c927"
  },
  {
   "cell_type": "markdown",
   "source": [
    "## Dictionaries"
   ],
   "metadata": {
    "collapsed": false
   },
   "id": "cbae110346292faa"
  },
  {
   "cell_type": "code",
   "execution_count": null,
   "outputs": [],
   "source": [
    "count_dict = {}\n",
    "word_list = ['abc', 'fasilkom', 'abc', 'abc']\n",
    "for word in word_list:\n",
    "    count_dict[word] = count_dict.get(word,0) +1\n",
    "\n",
    "count_dict"
   ],
   "metadata": {
    "collapsed": false
   },
   "id": "ed49549bb6475529"
  },
  {
   "cell_type": "markdown",
   "source": [
    "## Classes\n"
   ],
   "metadata": {
    "collapsed": false
   },
   "id": "9e48403a1fc4b2cd"
  },
  {
   "cell_type": "code",
   "execution_count": 7,
   "outputs": [
    {
     "name": "stdout",
     "output_type": "stream",
     "text": [
      "Circle with radius 5\n"
     ]
    }
   ],
   "source": [
    "import math\n",
    "class Circle(object):\n",
    "    def __init__(self, radius=1):\n",
    "        self._radius = radius       \n",
    "    \n",
    "    def __str__(self):\n",
    "        return \"Circle with radius {}\".format(self._radius)\n",
    "    \n",
    "    def perimeter(self):\n",
    "        return 2*self._radius*math.pi\n",
    "    \n",
    "    def area(self):\n",
    "        return math.pi *(self._radius**2)\n",
    "    \n",
    "    def set_radius(self, radius):\n",
    "        self._radius = radius\n",
    "    \n",
    "    def get_radius(self):\n",
    "        return self._radius\n",
    "        \n",
    "    \n",
    "obj = Circle(5)\n",
    "obj.get_radius()\n",
    "print(obj) #Obj has type \"Circle\""
   ],
   "metadata": {
    "collapsed": false,
    "ExecuteTime": {
     "end_time": "2023-11-02T03:55:41.431390400Z",
     "start_time": "2023-11-02T03:55:41.398522400Z"
    }
   },
   "id": "639f5f29d05380ee"
  },
  {
   "cell_type": "code",
   "execution_count": 1,
   "outputs": [
    {
     "name": "stdout",
     "output_type": "stream",
     "text": [
      "['ua', 'ad', 'ai', 'tpe']\n",
      "d\n",
      "list2: [1, 2, 10, 0, [41, 5]]\n",
      "list3: [30, 20, 3, 0, [41, 5]]\n"
     ]
    }
   ],
   "source": [
    "list0 = ['satu', '\\x64\\x75\\x61', 'tiga', 'empat']\n",
    "lst2 = [ kata[::-2] for kata in list0]\n",
    "print( lst2 )\n",
    "print(list[1][:1])\n",
    "list1 = [30,20,10,0,[41,42]]\n",
    "list2 = list1\n",
    "list3 = list2[:]\n",
    "list1[0] = 1\n",
    "list2[1] = 2\n",
    "list3[2] = 3\n",
    "list3[-1][1] = 5\n",
    "print(\"list2:\", list2)\n",
    "print(\"list3:\", list3)"
   ],
   "metadata": {
    "collapsed": false,
    "ExecuteTime": {
     "end_time": "2023-11-14T02:50:37.037442700Z",
     "start_time": "2023-11-14T02:50:36.954901800Z"
    }
   },
   "id": "d6dec7a5178e20e6"
  },
  {
   "cell_type": "code",
   "execution_count": null,
   "outputs": [],
   "source": [],
   "metadata": {
    "collapsed": false
   },
   "id": "57c9a987a77097c5"
  }
 ],
 "metadata": {
  "kernelspec": {
   "display_name": "Python 3",
   "language": "python",
   "name": "python3"
  },
  "language_info": {
   "codemirror_mode": {
    "name": "ipython",
    "version": 3
   },
   "file_extension": ".py",
   "mimetype": "text/x-python",
   "name": "python",
   "nbconvert_exporter": "python",
   "pygments_lexer": "ipython3",
   "version": "3.11.4"
  }
 },
 "nbformat": 4,
 "nbformat_minor": 5
}
