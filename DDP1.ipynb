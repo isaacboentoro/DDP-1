{
 "cells": [
  {
   "cell_type": "code",
   "execution_count": null,
   "id": "b4343217",
   "metadata": {},
   "outputs": [],
   "source": [
    "def balik(n):\n",
    "    if n < 10:\n",
    "        print(n)\n",
    "    else:\n",
    "        print(n % 10)\n",
    "        balik(n // 10)\n",
    "balik(123)\n"
   ]
  },
  {
   "cell_type": "code",
   "execution_count": null,
   "id": "adb6fb43",
   "metadata": {},
   "outputs": [],
   "source": [
    "def cetak(n):\n",
    "    if n < 10:\n",
    "        print(n)\n",
    "    else:\n",
    "        cetak(n // 10)\n",
    "        print(n % 10)\n",
    "cetak(123)"
   ]
  },
  {
   "cell_type": "code",
   "execution_count": null,
   "outputs": [],
   "source": [
    "def mini(lst):\n",
    "    if len(lst) == 1:\n",
    "        return lst[0]\n",
    "    if lst [0] < lst[1]:\n",
    "        lst[1] = lst[0]\n",
    "    return mini(lst[1:])\n",
    "print(mini([3,0,-5]))"
   ],
   "metadata": {
    "collapsed": false
   },
   "id": "2dea67e5a9db772c"
  },
  {
   "cell_type": "code",
   "execution_count": null,
   "id": "dc61718b",
   "metadata": {},
   "outputs": [],
   "source": [
    "dictio = {'a':36, 'c':25, 'b':40}\n",
    "print(dictio.keys())\n",
    "print(dictio.values())\n",
    "print(dictio.items())\n",
    "print(dictio.get('a'),dictio.get('b'),dictio.get('c'))\n",
    "print(dictio.get('c'),dictio.get('a'),dictio.get('c'))"
   ]
  },
  {
   "cell_type": "code",
   "execution_count": null,
   "outputs": [],
   "source": [
    "def factorial(n):\n",
    "    if n <= 1:\n",
    "        return 1\n",
    "    else:\n",
    "        return n*factorial(n-1)\n",
    "factorial(5)"
   ],
   "metadata": {
    "collapsed": false
   },
   "id": "34dd0593a88b66b9"
  },
  {
   "cell_type": "code",
   "execution_count": null,
   "outputs": [],
   "source": [
    "def sum_list(lst):\n",
    "    if not lst:\n",
    "        return 0\n",
    "    else:\n",
    "        return lst[0] + sum_list(lst[1:])\n",
    "\n",
    "sum_list([9,-3,2,0,5,-12])"
   ],
   "metadata": {
    "collapsed": false
   },
   "id": "ab267b6398513f9b"
  },
  {
   "cell_type": "code",
   "execution_count": null,
   "outputs": [],
   "source": [
    "def count_digits(st):\n",
    "    if not st:\n",
    "        return 0\n",
    "    # if st[0].isdigit():\n",
    "    #     return 1 + count_digits(st[1:])\n",
    "    # else:\n",
    "    #     return count_digits(st[1:])\n",
    "    return count_digits(st[1:]) + st[0].isdigit()\n",
    "\n",
    "\n",
    "print(count_digits(\"Year 2023\"))"
   ],
   "metadata": {
    "collapsed": false
   },
   "id": "f22579cfd10eff39"
  },
  {
   "cell_type": "code",
   "execution_count": null,
   "outputs": [],
   "source": [
    "def palindrome_check(word):\n",
    "    if not word:\n",
    "        return True\n",
    "    if word[0] == word[-1]:\n",
    "        return palindrome_check(word[1:-1])\n",
    "    else:\n",
    "        return False\n",
    "        \n",
    "palindrome_check(\"racecar\")\n"
   ],
   "metadata": {
    "collapsed": false
   },
   "id": "7e93d2b26ae720a"
  },
  {
   "cell_type": "code",
   "execution_count": null,
   "outputs": [],
   "source": [
    "def permutations(word):\n",
    "    permutation_list = []\n",
    "    if len(word) == 1:\n",
    "        permutation_list.append(word)\n",
    "    else:\n",
    "        for i in range(len(word)):\n",
    "            for j in permutations(word[:i] + word[i+1:]):\n",
    "                permutation_list.append(word[i] + j)\n",
    "    return permutation_list\n",
    "print(permutations(\"abcd\"))\n",
    "print(len(permutations(\"abcd\")))\n"
   ],
   "metadata": {
    "collapsed": false
   },
   "id": "afb0e981daf7c927"
  },
  {
   "cell_type": "markdown",
   "source": [
    "## Dictionaries"
   ],
   "metadata": {
    "collapsed": false
   },
   "id": "cbae110346292faa"
  },
  {
   "cell_type": "code",
   "execution_count": null,
   "outputs": [],
   "source": [
    "count_dict = {}\n",
    "word_list = ['abc', 'fasilkom', 'abc', 'abc']\n",
    "for word in word_list:\n",
    "    count_dict[word] = count_dict.get(word,0) +1\n",
    "\n",
    "count_dict"
   ],
   "metadata": {
    "collapsed": false
   },
   "id": "ed49549bb6475529"
  },
  {
   "cell_type": "markdown",
   "source": [
    "## Classes\n"
   ],
   "metadata": {
    "collapsed": false
   },
   "id": "9e48403a1fc4b2cd"
  },
  {
   "cell_type": "code",
   "execution_count": 7,
   "outputs": [
    {
     "name": "stdout",
     "output_type": "stream",
     "text": [
      "Circle with radius 5\n"
     ]
    }
   ],
   "source": [
    "import math\n",
    "class Circle(object):\n",
    "    def __init__(self, radius=1):\n",
    "        self._radius = radius       \n",
    "    \n",
    "    def __str__(self):\n",
    "        return \"Circle with radius {}\".format(self._radius)\n",
    "    \n",
    "    def perimeter(self):\n",
    "        return 2*self._radius*math.pi\n",
    "    \n",
    "    def area(self):\n",
    "        return math.pi *(self._radius**2)\n",
    "    \n",
    "    def set_radius(self, radius):\n",
    "        self._radius = radius\n",
    "    \n",
    "    def get_radius(self):\n",
    "        return self._radius\n",
    "        \n",
    "    \n",
    "obj = Circle(5)\n",
    "obj.get_radius()\n",
    "print(obj) #Obj has type \"Circle\""
   ],
   "metadata": {
    "collapsed": false,
    "ExecuteTime": {
     "end_time": "2023-11-02T03:55:41.431390400Z",
     "start_time": "2023-11-02T03:55:41.398522400Z"
    }
   },
   "id": "639f5f29d05380ee"
  },
  {
   "cell_type": "code",
   "execution_count": null,
   "outputs": [],
   "source": [],
   "metadata": {
    "collapsed": false
   },
   "id": "d6dec7a5178e20e6"
  }
 ],
 "metadata": {
  "kernelspec": {
   "display_name": "Python 3",
   "language": "python",
   "name": "python3"
  },
  "language_info": {
   "codemirror_mode": {
    "name": "ipython",
    "version": 3
   },
   "file_extension": ".py",
   "mimetype": "text/x-python",
   "name": "python",
   "nbconvert_exporter": "python",
   "pygments_lexer": "ipython3",
   "version": "3.11.4"
  }
 },
 "nbformat": 4,
 "nbformat_minor": 5
}
