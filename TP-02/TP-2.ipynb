{
 "cells": [
  {
   "cell_type": "code",
   "execution_count": 13,
   "id": "initial_id",
   "metadata": {
    "ExecuteTime": {
     "end_time": "2023-10-01T08:09:32.397027Z",
     "start_time": "2023-10-01T08:09:32.389987600Z"
    },
    "collapsed": true
   },
   "outputs": [],
   "source": [
    "import os\n",
    "import sys\n",
    "directory = r\"C:\\Users\\isaac\\Documents\\indo-law-main\\dataset\""
   ]
  },
  {
   "cell_type": "code",
   "execution_count": 14,
   "id": "b7901e6fbd50226d",
   "metadata": {
    "ExecuteTime": {
     "end_time": "2023-10-01T08:09:35.373436200Z",
     "start_time": "2023-10-01T08:09:32.395021800Z"
    },
    "collapsed": false
   },
   "outputs": [
    {
     "name": "stdout",
     "output_type": "stream",
     "text": [
      "0\n"
     ]
    }
   ],
   "source": [
    "search = sys.argv[1]\n",
    "strings_found = 0\n",
    "for file in os.listdir(directory):\n",
    "    current_path = os.path.join(directory, file)\n",
    "    with open(current_path, 'r', encoding='utf-8') as f:\n",
    "        if search in f.read():\n",
    "            print(file)\n",
    "            strings_found += 1\n",
    "\n",
    "print(strings_found)\n"
   ]
  }
 ],
 "metadata": {
  "kernelspec": {
   "display_name": "Python 3",
   "language": "python",
   "name": "python3"
  },
  "language_info": {
   "codemirror_mode": {
    "name": "ipython",
    "version": 3
   },
   "file_extension": ".py",
   "mimetype": "text/x-python",
   "name": "python",
   "nbconvert_exporter": "python",
   "pygments_lexer": "ipython3",
   "version": "3.11.4"
  }
 },
 "nbformat": 4,
 "nbformat_minor": 5
}
